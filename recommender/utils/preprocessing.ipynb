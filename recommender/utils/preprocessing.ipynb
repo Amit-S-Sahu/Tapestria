{
 "cells": [
  {
   "cell_type": "code",
   "execution_count": 1,
   "id": "6aa94b3d",
   "metadata": {},
   "outputs": [],
   "source": [
    "import pandas as pd "
   ]
  },
  {
   "cell_type": "code",
   "execution_count": 2,
   "id": "d1006e00",
   "metadata": {},
   "outputs": [],
   "source": [
    "df = pd.read_csv(\"../Data/GoodReads_100k_books.csv\")"
   ]
  },
  {
   "cell_type": "code",
   "execution_count": 3,
   "id": "d4ef13c2",
   "metadata": {},
   "outputs": [
    {
     "name": "stdout",
     "output_type": "stream",
     "text": [
      "<class 'pandas.core.frame.DataFrame'>\n",
      "RangeIndex: 100000 entries, 0 to 99999\n",
      "Data columns (total 13 columns):\n",
      " #   Column        Non-Null Count   Dtype  \n",
      "---  ------        --------------   -----  \n",
      " 0   author        100000 non-null  object \n",
      " 1   bookformat    96772 non-null   object \n",
      " 2   desc          93228 non-null   object \n",
      " 3   genre         89533 non-null   object \n",
      " 4   img           96955 non-null   object \n",
      " 5   isbn          85518 non-null   object \n",
      " 6   isbn13        88565 non-null   object \n",
      " 7   link          100000 non-null  object \n",
      " 8   pages         100000 non-null  int64  \n",
      " 9   rating        100000 non-null  float64\n",
      " 10  reviews       100000 non-null  int64  \n",
      " 11  title         99999 non-null   object \n",
      " 12  totalratings  100000 non-null  int64  \n",
      "dtypes: float64(1), int64(3), object(9)\n",
      "memory usage: 9.9+ MB\n"
     ]
    }
   ],
   "source": [
    "df.info()"
   ]
  },
  {
   "cell_type": "code",
   "execution_count": 4,
   "id": "a4d28284",
   "metadata": {},
   "outputs": [
    {
     "data": {
      "text/plain": [
       "author              0\n",
       "bookformat       3228\n",
       "desc             6772\n",
       "genre           10467\n",
       "img              3045\n",
       "isbn            14482\n",
       "isbn13          11435\n",
       "link                0\n",
       "pages               0\n",
       "rating              0\n",
       "reviews             0\n",
       "title               1\n",
       "totalratings        0\n",
       "dtype: int64"
      ]
     },
     "execution_count": 4,
     "metadata": {},
     "output_type": "execute_result"
    }
   ],
   "source": [
    "df.isnull().sum()"
   ]
  },
  {
   "cell_type": "code",
   "execution_count": 5,
   "id": "b8c05ab1",
   "metadata": {},
   "outputs": [],
   "source": [
    "df.drop_duplicates(inplace=True)"
   ]
  },
  {
   "cell_type": "code",
   "execution_count": 6,
   "id": "846de73c",
   "metadata": {},
   "outputs": [],
   "source": [
    "df.drop('isbn13', axis=1, inplace=True)"
   ]
  },
  {
   "cell_type": "code",
   "execution_count": 7,
   "id": "aba9f2e8",
   "metadata": {},
   "outputs": [],
   "source": [
    "df_new = df.dropna()"
   ]
  },
  {
   "cell_type": "code",
   "execution_count": 8,
   "id": "3d94c8d6",
   "metadata": {},
   "outputs": [
    {
     "data": {
      "text/plain": [
       "(100000, 12)"
      ]
     },
     "execution_count": 8,
     "metadata": {},
     "output_type": "execute_result"
    }
   ],
   "source": [
    "df.shape"
   ]
  },
  {
   "cell_type": "code",
   "execution_count": 9,
   "id": "d12f5afb",
   "metadata": {},
   "outputs": [
    {
     "data": {
      "text/plain": [
       "(73049, 12)"
      ]
     },
     "execution_count": 9,
     "metadata": {},
     "output_type": "execute_result"
    }
   ],
   "source": [
    "df_new.shape"
   ]
  },
  {
   "cell_type": "code",
   "execution_count": 10,
   "id": "bba04ab6",
   "metadata": {},
   "outputs": [
    {
     "name": "stderr",
     "output_type": "stream",
     "text": [
      "C:\\Users\\mradu\\AppData\\Local\\Temp\\ipykernel_1820\\1006860906.py:1: SettingWithCopyWarning: \n",
      "A value is trying to be set on a copy of a slice from a DataFrame\n",
      "\n",
      "See the caveats in the documentation: https://pandas.pydata.org/pandas-docs/stable/user_guide/indexing.html#returning-a-view-versus-a-copy\n",
      "  df_new.drop(columns=['pages'], inplace=True)\n"
     ]
    }
   ],
   "source": [
    "df_new.drop(columns=['pages'], inplace=True)"
   ]
  },
  {
   "cell_type": "code",
   "execution_count": null,
   "id": "4bcec140",
   "metadata": {},
   "outputs": [
    {
     "name": "stderr",
     "output_type": "stream",
     "text": [
      "C:\\Users\\mradu\\AppData\\Local\\Temp\\ipykernel_1820\\2216963129.py:2: SettingWithCopyWarning: \n",
      "A value is trying to be set on a copy of a slice from a DataFrame.\n",
      "Try using .loc[row_indexer,col_indexer] = value instead\n",
      "\n",
      "See the caveats in the documentation: https://pandas.pydata.org/pandas-docs/stable/user_guide/indexing.html#returning-a-view-versus-a-copy\n",
      "  df_new['genre'] = df_new['genre'].str.replace(r\",[^,]*\\.\\.\\.$\", \"\", regex=True).str.replace(r\"\\.\\.\\.$\", \"\", regex=True).str.strip()\n"
     ]
    }
   ],
   "source": [
    "df_new['genre'] = df_new['genre'].str.replace(r\",[^,]*\\.\\.\\.$\", \"\", regex=True).str.replace(r\"\\.\\.\\.$\", \"\", regex=True).str.strip()"
   ]
  },
  {
   "cell_type": "code",
   "execution_count": 12,
   "id": "141e88c2",
   "metadata": {},
   "outputs": [],
   "source": [
    "all_genres = []\n",
    "for genre_str in df_new['genre']:\n",
    "    genres = [g.strip() for g in genre_str.split(',')]\n",
    "    all_genres.extend(genres)"
   ]
  },
  {
   "cell_type": "code",
   "execution_count": 13,
   "id": "51f1a403",
   "metadata": {},
   "outputs": [
    {
     "name": "stderr",
     "output_type": "stream",
     "text": [
      "C:\\Users\\mradu\\AppData\\Local\\Temp\\ipykernel_1820\\1459964968.py:1: SettingWithCopyWarning: \n",
      "A value is trying to be set on a copy of a slice from a DataFrame.\n",
      "Try using .loc[row_indexer,col_indexer] = value instead\n",
      "\n",
      "See the caveats in the documentation: https://pandas.pydata.org/pandas-docs/stable/user_guide/indexing.html#returning-a-view-versus-a-copy\n",
      "  df_new['genre_list'] = df_new['genre'].apply(lambda x: [g.strip() for g in str(x).split(',')])\n"
     ]
    }
   ],
   "source": [
    "df_new['genre_list'] = df_new['genre'].apply(lambda x: [g.strip() for g in str(x).split(',')])"
   ]
  },
  {
   "cell_type": "code",
   "execution_count": null,
   "id": "07702bc8",
   "metadata": {},
   "outputs": [],
   "source": [
    "df_new = df_new[~df_new['title'].duplicated(keep=False)].reset_index(drop=True)"
   ]
  },
  {
   "cell_type": "code",
   "execution_count": null,
   "id": "71bf9414",
   "metadata": {},
   "outputs": [
    {
     "name": "stdout",
     "output_type": "stream",
     "text": [
      "Empty DataFrame\n",
      "Columns: [author, bookformat, desc, genre, img, isbn, link, rating, reviews, title, totalratings, genre_list]\n",
      "Index: []\n"
     ]
    }
   ],
   "source": [
    "rows_with_ellipsis = df_new[df_new['genre_list'].apply(lambda genres: '...' in genres)]\n",
    "print(rows_with_ellipsis)\n"
   ]
  },
  {
   "cell_type": "code",
   "execution_count": 16,
   "id": "8717e028",
   "metadata": {},
   "outputs": [
    {
     "data": {
      "text/plain": [
       "0    [History, Military History, Civil War, America...\n",
       "1      [Couture, Fashion, Historical, Art, Nonfiction]\n",
       "2                                  [Politics, History]\n",
       "3                                     [Labor, History]\n",
       "4    [Business, Leadership, Romance, Historical Rom...\n",
       "Name: genre_list, dtype: object"
      ]
     },
     "execution_count": 16,
     "metadata": {},
     "output_type": "execute_result"
    }
   ],
   "source": [
    "df_new['genre_list'].head(5)"
   ]
  },
  {
   "cell_type": "code",
   "execution_count": null,
   "id": "89de1fff",
   "metadata": {},
   "outputs": [
    {
     "name": "stderr",
     "output_type": "stream",
     "text": [
      "C:\\Users\\mradu\\AppData\\Local\\Temp\\ipykernel_1820\\1079227887.py:23: FutureWarning: \n",
      "\n",
      "Passing `palette` without assigning `hue` is deprecated and will be removed in v0.14.0. Assign the `y` variable to `hue` and set `legend=False` for the same effect.\n",
      "\n",
      "  ax = sns.barplot(x=most_common_genre_series.values, y=most_common_genre_series.index, palette='viridis')\n"
     ]
    },
    {
     "data": {
      "image/png": "[encoded data removed]",
      "text/plain": [
       "<Figure size 1000x600 with 1 Axes>"
      ]
     },
     "metadata": {},
     "output_type": "display_data"
    }
   ],
   "source": [
    "import pandas as pd\n",
    "import matplotlib.pyplot as plt\n",
    "import seaborn as sns\n",
    "from collections import Counter\n",
    "\n",
    "all_genres = []\n",
    "for genre_str in df_new['genre']:\n",
    "    genres = [g.strip() for g in genre_str.split(',')]\n",
    "    all_genres.extend(genres)\n",
    "\n",
    "genre_counts = Counter(all_genres)\n",
    "\n",
    "most_common_genre = genre_counts.most_common(10)\n",
    "\n",
    "most_common_genre_series = pd.Series(dict(most_common_genre)).sort_values(ascending=False)\n",
    "\n",
    "plt.figure(figsize=(10,6))\n",
    "ax = sns.barplot(x=most_common_genre_series.values, y=most_common_genre_series.index, palette='viridis')\n",
    "plt.title('Top 10 Most Common Genres')\n",
    "plt.xlabel('Number of Books')\n",
    "plt.ylabel('Genre')\n",
    "\n",
    "for i, v in enumerate(most_common_genre_series.values):\n",
    "    ax.text(v + 1, i, str(v), color='black', va='center')\n",
    "\n",
    "plt.tight_layout()\n",
    "plt.show()"
   ]
  },
  {
   "cell_type": "code",
   "execution_count": 18,
   "id": "681c45a9",
   "metadata": {},
   "outputs": [],
   "source": [
    "df_new['genre'] = df_new['genre'].str.replace(r\"\\.\\.\\.\", \"\", regex=True).str.strip()\n"
   ]
  },
  {
   "cell_type": "code",
   "execution_count": null,
   "id": "2e8e2c57",
   "metadata": {},
   "outputs": [],
   "source": [
    "all_genres = []\n",
    "for genre_str in df_new['genre']:\n",
    "    genres = [g.strip() for g in genre_str.split(',')]\n",
    "    genres = [g for g in genres if g != '...']\n",
    "    all_genres.extend(genres)\n"
   ]
  },
  {
   "cell_type": "code",
   "execution_count": null,
   "id": "407f6c26",
   "metadata": {},
   "outputs": [],
   "source": [
    "df_new['genre'] = df_new['genre'].str.replace('...', '', regex=False)\n",
    "df_new['genre'] = df_new['genre'].str.replace(r'\\s+,', ',', regex=True) "
   ]
  },
  {
   "cell_type": "code",
   "execution_count": 21,
   "id": "f4809400",
   "metadata": {},
   "outputs": [
    {
     "name": "stdout",
     "output_type": "stream",
     "text": [
      "Count of '...' in genre column: 0\n"
     ]
    }
   ],
   "source": [
    "print(\"Count of '...' in genre column:\", df_new['genre'].str.contains(r\"\\.\\.\\.\").sum())"
   ]
  },
  {
   "cell_type": "code",
   "execution_count": 22,
   "id": "4fc7b8c3",
   "metadata": {},
   "outputs": [
    {
     "name": "stdout",
     "output_type": "stream",
     "text": [
      "<class 'pandas.core.frame.DataFrame'>\n",
      "RangeIndex: 70687 entries, 0 to 70686\n",
      "Data columns (total 12 columns):\n",
      " #   Column        Non-Null Count  Dtype  \n",
      "---  ------        --------------  -----  \n",
      " 0   author        70687 non-null  object \n",
      " 1   bookformat    70687 non-null  object \n",
      " 2   desc          70687 non-null  object \n",
      " 3   genre         70687 non-null  object \n",
      " 4   img           70687 non-null  object \n",
      " 5   isbn          70687 non-null  object \n",
      " 6   link          70687 non-null  object \n",
      " 7   rating        70687 non-null  float64\n",
      " 8   reviews       70687 non-null  int64  \n",
      " 9   title         70687 non-null  object \n",
      " 10  totalratings  70687 non-null  int64  \n",
      " 11  genre_list    70687 non-null  object \n",
      "dtypes: float64(1), int64(2), object(9)\n",
      "memory usage: 6.5+ MB\n"
     ]
    }
   ],
   "source": [
    "df_new.info()"
   ]
  },
  {
   "cell_type": "code",
   "execution_count": 23,
   "id": "83e5c0fa",
   "metadata": {},
   "outputs": [],
   "source": [
    "df_new.drop('link', axis=1, inplace=True)"
   ]
  },
  {
   "cell_type": "code",
   "execution_count": 24,
   "id": "dd91a62c",
   "metadata": {},
   "outputs": [
    {
     "name": "stdout",
     "output_type": "stream",
     "text": [
      "<class 'pandas.core.frame.DataFrame'>\n",
      "RangeIndex: 70687 entries, 0 to 70686\n",
      "Data columns (total 11 columns):\n",
      " #   Column        Non-Null Count  Dtype  \n",
      "---  ------        --------------  -----  \n",
      " 0   author        70687 non-null  object \n",
      " 1   bookformat    70687 non-null  object \n",
      " 2   desc          70687 non-null  object \n",
      " 3   genre         70687 non-null  object \n",
      " 4   img           70687 non-null  object \n",
      " 5   isbn          70687 non-null  object \n",
      " 6   rating        70687 non-null  float64\n",
      " 7   reviews       70687 non-null  int64  \n",
      " 8   title         70687 non-null  object \n",
      " 9   totalratings  70687 non-null  int64  \n",
      " 10  genre_list    70687 non-null  object \n",
      "dtypes: float64(1), int64(2), object(8)\n",
      "memory usage: 5.9+ MB\n"
     ]
    }
   ],
   "source": [
    "df_new.info()"
   ]
  },
  {
   "cell_type": "code",
   "execution_count": 25,
   "id": "6976209b",
   "metadata": {},
   "outputs": [],
   "source": [
    "df_new.to_csv(\"../Data/GoodReads_100k_books_cleaned.csv\", index=False)"
   ]
  },
  {
   "cell_type": "code",
   "execution_count": 26,
   "id": "9151f70e",
   "metadata": {},
   "outputs": [],
   "source": [
    "df_amit = df_new.copy()"
   ]
  },
  {
   "cell_type": "code",
   "execution_count": 27,
   "id": "73994114",
   "metadata": {},
   "outputs": [
    {
     "name": "stdout",
     "output_type": "stream",
     "text": [
      "<class 'pandas.core.frame.DataFrame'>\n",
      "RangeIndex: 70687 entries, 0 to 70686\n",
      "Data columns (total 11 columns):\n",
      " #   Column        Non-Null Count  Dtype  \n",
      "---  ------        --------------  -----  \n",
      " 0   author        70687 non-null  object \n",
      " 1   bookformat    70687 non-null  object \n",
      " 2   desc          70687 non-null  object \n",
      " 3   genre         70687 non-null  object \n",
      " 4   img           70687 non-null  object \n",
      " 5   isbn          70687 non-null  object \n",
      " 6   rating        70687 non-null  float64\n",
      " 7   reviews       70687 non-null  int64  \n",
      " 8   title         70687 non-null  object \n",
      " 9   totalratings  70687 non-null  int64  \n",
      " 10  genre_list    70687 non-null  object \n",
      "dtypes: float64(1), int64(2), object(8)\n",
      "memory usage: 5.9+ MB\n"
     ]
    }
   ],
   "source": [
    "df_amit.info()"
   ]
  },
  {
   "cell_type": "code",
   "execution_count": 28,
   "id": "adaa0229",
   "metadata": {},
   "outputs": [],
   "source": [
    "df_amit.drop(columns=['genre_list', 'reviews'], inplace=True)"
   ]
  },
  {
   "cell_type": "code",
   "execution_count": 29,
   "id": "627ba56e",
   "metadata": {},
   "outputs": [
    {
     "name": "stdout",
     "output_type": "stream",
     "text": [
      "<class 'pandas.core.frame.DataFrame'>\n",
      "RangeIndex: 70687 entries, 0 to 70686\n",
      "Data columns (total 9 columns):\n",
      " #   Column        Non-Null Count  Dtype  \n",
      "---  ------        --------------  -----  \n",
      " 0   author        70687 non-null  object \n",
      " 1   bookformat    70687 non-null  object \n",
      " 2   desc          70687 non-null  object \n",
      " 3   genre         70687 non-null  object \n",
      " 4   img           70687 non-null  object \n",
      " 5   isbn          70687 non-null  object \n",
      " 6   rating        70687 non-null  float64\n",
      " 7   title         70687 non-null  object \n",
      " 8   totalratings  70687 non-null  int64  \n",
      "dtypes: float64(1), int64(1), object(7)\n",
      "memory usage: 4.9+ MB\n"
     ]
    }
   ],
   "source": [
    "df_amit.info()"
   ]
  },
  {
   "cell_type": "code",
   "execution_count": 31,
   "id": "04c345f0",
   "metadata": {},
   "outputs": [],
   "source": [
    "df_amit.to_csv(\"../Data/GoodReads_100k_books_cleaned_amit.csv\", index=False)"
   ]
  },
  {
   "cell_type": "code",
   "execution_count": null,
   "id": "2ec2ff3a",
   "metadata": {},
   "outputs": [
    {
     "name": "stdout",
     "output_type": "stream",
     "text": [
      "Duplicate Titles:\n",
      "Empty DataFrame\n",
      "Columns: [title]\n",
      "Index: []\n"
     ]
    }
   ],
   "source": [
    "duplicate_titles = df_amit[df_amit.duplicated('title', keep=False)]\n",
    "\n",
    "print(\"Duplicate Titles:\")\n",
    "print(duplicate_titles[['title']])\n"
   ]
  },
  {
   "cell_type": "code",
   "execution_count": null,
   "id": "1294c40d",
   "metadata": {},
   "outputs": [
    {
     "name": "stdout",
     "output_type": "stream",
     "text": [
      "Duplicate Title Names:\n",
      "[]\n"
     ]
    }
   ],
   "source": [
    "duplicate_title_names = df_amit['title'][df_amit['title'].duplicated(keep=False)].unique()\n",
    "\n",
    "print(\"Duplicate Title Names:\")\n",
    "print(duplicate_title_names)\n"
   ]
  },
  {
   "cell_type": "code",
   "execution_count": 34,
   "id": "bd556fb1",
   "metadata": {},
   "outputs": [
    {
     "data": {
      "text/plain": [
       "(70687, 9)"
      ]
     },
     "execution_count": 34,
     "metadata": {},
     "output_type": "execute_result"
    }
   ],
   "source": [
    "df_amit.shape"
   ]
  }
 ],
 "metadata": {
  "kernelspec": {
   "display_name": "Python 3",
   "language": "python",
   "name": "python3"
  },
  "language_info": {
   "codemirror_mode": {
    "name": "ipython",
    "version": 3
   },
   "file_extension": ".py",
   "mimetype": "text/x-python",
   "name": "python",
   "nbconvert_exporter": "python",
   "pygments_lexer": "ipython3",
   "version": "3.12.2"
  }
 },
 "nbformat": 4,
 "nbformat_minor": 5
}
