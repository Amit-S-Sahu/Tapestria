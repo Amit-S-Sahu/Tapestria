{
 "cells": [
  {
   "cell_type": "code",
   "execution_count": 3,
   "id": "25dcb00c",
   "metadata": {},
   "outputs": [],
   "source": [
    "import numpy as np\n",
    "import ast\n",
    "import pandas as pd"
   ]
  },
  {
   "cell_type": "code",
   "execution_count": 4,
   "id": "672aa60b",
   "metadata": {},
   "outputs": [],
   "source": [
    "df = pd.read_csv(\"../Data/GoodReads_100k_books_cleaned.csv\")"
   ]
  },
  {
   "cell_type": "code",
   "execution_count": 5,
   "id": "c658b987",
   "metadata": {},
   "outputs": [
    {
     "name": "stdout",
     "output_type": "stream",
     "text": [
      "<class 'pandas.core.frame.DataFrame'>\n",
      "RangeIndex: 70687 entries, 0 to 70686\n",
      "Data columns (total 11 columns):\n",
      " #   Column        Non-Null Count  Dtype  \n",
      "---  ------        --------------  -----  \n",
      " 0   author        70687 non-null  object \n",
      " 1   bookformat    70687 non-null  object \n",
      " 2   desc          70687 non-null  object \n",
      " 3   genre         70687 non-null  object \n",
      " 4   img           70687 non-null  object \n",
      " 5   isbn          70687 non-null  object \n",
      " 6   rating        70687 non-null  float64\n",
      " 7   reviews       70687 non-null  int64  \n",
      " 8   title         70687 non-null  object \n",
      " 9   totalratings  70687 non-null  int64  \n",
      " 10  genre_list    70687 non-null  object \n",
      "dtypes: float64(1), int64(2), object(8)\n",
      "memory usage: 5.9+ MB\n"
     ]
    }
   ],
   "source": [
    "df.info()"
   ]
  },
  {
   "cell_type": "code",
   "execution_count": null,
   "id": "c9794891",
   "metadata": {},
   "outputs": [],
   "source": [
    "def isbn_list_to_book_details(isbn_list, df):\n",
    "    \"\"\"\n",
    "    Function to retrieve book details for a list of ISBNs.\n",
    "    \n",
    "    Parameters:\n",
    "    isbn_list (list): A list of ISBN numbers.\n",
    "    df (DataFrame): The dataset containing book details.\n",
    "    \n",
    "    Returns:\n",
    "    list: A list of dictionaries with book details for each ISBN in isbn_list.\n",
    "    \"\"\"\n",
    "    books_details = []\n",
    "    \n",
    "    for isbn in isbn_list:\n",
    "        book = df[df['isbn'] == isbn]\n",
    "\n",
    "        if not book.empty:\n",
    "            book_details = {\n",
    "                'title': book['title'].values[0],\n",
    "                'author': book['author'].values[0],\n",
    "                'genre': book['genre'].values[0],\n",
    "                'rating': book['rating'].values[0],\n",
    "                'totalratings': book['totalratings'].values[0],\n",
    "                'isbn': book['isbn'].values[0],\n",
    "                'pages': book['pages'].values[0],\n",
    "                'img': book['img'].values[0]\n",
    "            }\n",
    "            books_details.append(book_details)\n",
    "        else:\n",
    "            books_details.append(f\"Book with ISBN {isbn} not found.\")\n",
    "    \n",
    "    return books_details"
   ]
  },
  {
   "cell_type": "code",
   "execution_count": null,
   "id": "2178df78",
   "metadata": {},
   "outputs": [],
   "source": [
    "class PopularityRecommender:\n",
    "    \"\"\"\n",
    "    A faster popularity-based recommender using precomputed indices.\n",
    "\n",
    "    Usage:\n",
    "        rec = PopularityRecommender(df, min_ratings=10)\n",
    "        rec.get_popular_isbns()  # overall top\n",
    "        rec.get_popular_isbns(genre='History', top=10)\n",
    "        rec.get_popular_isbns(genre=['History','Civil War'], top=5, match_mode='all')\n",
    "    \"\"\"\n",
    "    def __init__(self, df, min_ratings=10):\n",
    "        self.df = df.copy()\n",
    "        self.df['genre_list'] = self.df['genre_list'].apply(self._parse_genre_list)\n",
    "        self.df = self.df[self.df['totalratings'] > min_ratings]\n",
    "        self.df['popularity_score'] = self.df['rating'] * np.log1p(self.df['totalratings'])\n",
    "        self.genre_index = {}\n",
    "        for idx, genres in self.df['genre_list'].items():\n",
    "            for g in genres:\n",
    "                self.genre_index.setdefault(g, set()).add(idx)\n",
    "\n",
    "    def _parse_genre_list(self, val):\n",
    "        \"\"\"\n",
    "        Safely parse the genre_list field, handling malformed strings.\n",
    "        \"\"\"\n",
    "        if isinstance(val, list):\n",
    "            return val\n",
    "        if not isinstance(val, str):\n",
    "            return []\n",
    "        try:\n",
    "            parsed = ast.literal_eval(val)\n",
    "            if isinstance(parsed, list):\n",
    "                return parsed\n",
    "        except Exception:\n",
    "            pass\n",
    "        s = val.strip().lstrip('[').rstrip(']')\n",
    "        items = []\n",
    "        for part in s.split(','):\n",
    "            item = part.strip().strip(\"'\\\" \")\n",
    "            if item and '...' not in item:\n",
    "                items.append(item)\n",
    "        return items\n",
    "\n",
    "    def get_popular_isbns(self, genre=None, top=20, match_mode='all'):\n",
    "        \"\"\"\n",
    "        Retrieve top ISBNs by popularity, optionally filtered by genre(s).\n",
    "\n",
    "        Parameters:\n",
    "        - genre: None, str, or list of str\n",
    "        - top: int\n",
    "        - match_mode: 'any' or 'all'\n",
    "\n",
    "        Returns:\n",
    "        - List of ISBN strings, or None if no matches.\n",
    "        \"\"\"\n",
    "        if genre is None:\n",
    "            candidate_idx = list(self.df.index)\n",
    "        else:\n",
    "            genres = [genre] if isinstance(genre, str) else list(genre)\n",
    "            sets = [self.genre_index.get(g, set()) for g in genres]\n",
    "            if match_mode == 'any':\n",
    "                candidate_idx = list(set().union(*sets))\n",
    "            elif match_mode == 'all':\n",
    "                candidate_idx = list(set.intersection(*sets)) if sets else []\n",
    "            else:\n",
    "                raise ValueError(\"match_mode must be 'any' or 'all'\")\n",
    "\n",
    "        if not candidate_idx:\n",
    "            return None\n",
    "\n",
    "        sub = self.df.loc[candidate_idx]\n",
    "        top_df = sub.nlargest(top, 'popularity_score')\n",
    "        return top_df['isbn'].tolist()\n"
   ]
  },
  {
   "cell_type": "code",
   "execution_count": 11,
   "id": "943a1668",
   "metadata": {},
   "outputs": [
    {
     "name": "stdout",
     "output_type": "stream",
     "text": [
      "Top 20 popular books (ISBNs): ['439064864', '553588486', '62024035', '1594489505', '553381695', '450040186', '142437204', '756404738', '451526341', '312330871', '385199570', '1423140605', '1416975888', '1451648537', '62059939', '1423146727', '743454537', '1619630621', '1416914293', '66238501']\n",
      "Top 10 History books (ISBNs): ['1451648537', '141014083', '067002581X', '679745580', '679729771', '345465083', '078670621X', '393324818', '743264738', '571212921']\n",
      "Top 5 History OR Civil War (ISBNs): ['1451648537', '141014083', '067002581X', '679745580', '679729771']\n",
      "Top 5 History AND Civil War (ISBNs): ['805093079', '60518502', '395518482', '385532415', '60937165']\n"
     ]
    }
   ],
   "source": [
    "recommender = PopularityRecommender(df, min_ratings=10)\n",
    "print('Top 20 popular books (ISBNs):', recommender.get_popular_isbns())\n",
    "print('Top 10 History books (ISBNs):', recommender.get_popular_isbns(genre='History', top=10))\n",
    "print('Top 5 History OR Civil War (ISBNs):', recommender.get_popular_isbns(genre=['History', 'Civil War'], top=5, match_mode='any'))\n",
    "print('Top 5 History AND Civil War (ISBNs):', recommender.get_popular_isbns(genre=['History', 'Civil War'], top=5, match_mode='all'))"
   ]
  },
  {
   "cell_type": "code",
   "execution_count": 12,
   "id": "efbdcc0c",
   "metadata": {},
   "outputs": [
    {
     "data": {
      "text/plain": [
       "['good_book_pop_rec.pkl']"
      ]
     },
     "execution_count": 12,
     "metadata": {},
     "output_type": "execute_result"
    }
   ],
   "source": [
    "import joblib\n",
    "\n",
    "joblib.dump(recommender, 'good_book_pop_rec.pkl')"
   ]
  },
  {
   "cell_type": "code",
   "execution_count": 8,
   "id": "ab95f61e",
   "metadata": {},
   "outputs": [],
   "source": [
    "import joblib\n",
    "\n",
    "rec = joblib.load('good_book_pop_rec.pkl')"
   ]
  },
  {
   "cell_type": "code",
   "execution_count": 9,
   "id": "103cbca3",
   "metadata": {},
   "outputs": [
    {
     "data": {
      "text/plain": [
       "['439064864',\n",
       " '756404738',\n",
       " '1619630621',\n",
       " '1416914293',\n",
       " '1619634449',\n",
       " '375826696',\n",
       " '185549664X',\n",
       " '61142026',\n",
       " '451464400',\n",
       " '1423160916']"
      ]
     },
     "execution_count": 9,
     "metadata": {},
     "output_type": "execute_result"
    }
   ],
   "source": [
    "rec.get_popular_isbns(genre='Magic', top=10)"
   ]
  },
  {
   "cell_type": "code",
   "execution_count": null,
   "id": "5622cc24",
   "metadata": {},
   "outputs": [
    {
     "name": "stdout",
     "output_type": "stream",
     "text": [
      "✅ Model saved successfully!\n"
     ]
    }
   ],
   "source": [
    "import pandas as pd\n",
    "import joblib\n",
    "from App.utils import PopularityRecommender\n",
    "\n",
    "recommender = PopularityRecommender(df, min_ratings=10)\n",
    "\n",
    "joblib.dump(recommender, \"good_book_pop_rec.pkl\")\n",
    "print(\"✅ Model saved successfully!\")"
   ]
  }
 ],
 "metadata": {
  "kernelspec": {
   "display_name": "Python 3",
   "language": "python",
   "name": "python3"
  },
  "language_info": {
   "codemirror_mode": {
    "name": "ipython",
    "version": 3
   },
   "file_extension": ".py",
   "mimetype": "text/x-python",
   "name": "python",
   "nbconvert_exporter": "python",
   "pygments_lexer": "ipython3",
   "version": "3.12.2"
  }
 },
 "nbformat": 4,
 "nbformat_minor": 5
}
